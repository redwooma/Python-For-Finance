{
 "cells": [
  {
   "cell_type": "markdown",
   "id": "b098e330",
   "metadata": {},
   "source": [
    "print hello world"
   ]
  },
  {
   "cell_type": "code",
   "execution_count": null,
   "id": "a50eecb6",
   "metadata": {},
   "outputs": [],
   "source": [
    "# write print(\"Hello World\") in the block\n",
    "\n",
    "print(\"Hello World\")"
   ]
  },
  {
   "cell_type": "markdown",
   "id": "f5342a86",
   "metadata": {},
   "source": [
    "While Loop"
   ]
  },
  {
   "cell_type": "code",
   "execution_count": null,
   "id": "5faa727b",
   "metadata": {},
   "outputs": [],
   "source": [
    "# While(conditions):\n",
    "#     do this\n",
    "while True:\n",
    "    print(\"Hello World\")"
   ]
  },
  {
   "cell_type": "markdown",
   "id": "0042263a",
   "metadata": {},
   "source": [
    "For Loop"
   ]
  },
  {
   "cell_type": "code",
   "execution_count": null,
   "id": "4b3dac3a",
   "metadata": {},
   "outputs": [],
   "source": [
    "for x in [1, 4, 5, 6]:\n",
    "    print(x)"
   ]
  },
  {
   "cell_type": "code",
   "execution_count": null,
   "id": "116a690a",
   "metadata": {},
   "outputs": [],
   "source": [
    "for x in range(10):\n",
    "    print(x)\n",
    "# Python is 0 index useful when you wish to count the number of data frames."
   ]
  },
  {
   "cell_type": "markdown",
   "id": "88bdf03e",
   "metadata": {},
   "source": [
    "conditional statements"
   ]
  },
  {
   "cell_type": "code",
   "execution_count": null,
   "id": "ea2918ed",
   "metadata": {},
   "outputs": [],
   "source": [
    "# if (condition1):\n",
    "#    do this\n",
    "# elif(condition2):\n",
    "#    do that\n",
    "# else:\n",
    "#    then do this"
   ]
  },
  {
   "cell_type": "code",
   "execution_count": null,
   "id": "0b8ae02f",
   "metadata": {},
   "outputs": [],
   "source": [
    "# libraries (download pandas numpy datetime)\n",
    "# only \n",
    "pip install pandas\n",
    "pip install numpy\n",
    "pip install yfinance\n",
    "pip install datetime\n",
    "pip install pandas_datareader"
   ]
  },
  {
   "cell_type": "code",
   "execution_count": null,
   "id": "dd2dd8f6",
   "metadata": {},
   "outputs": [],
   "source": [
    "import pandas as pd\n",
    "import numpy as np\n",
    "import yfinance as yf\n",
    "import datetime as dt\n",
    "from pandas_datareader import data as pdr"
   ]
  },
  {
   "cell_type": "code",
   "execution_count": null,
   "id": "055191a7",
   "metadata": {},
   "outputs": [],
   "source": [
    "yf.pdr_override()\n",
    "stock = input(\"Enter a stock ticker symbol: \")\n",
    "print(stock)"
   ]
  },
  {
   "cell_type": "code",
   "execution_count": null,
   "id": "78e4ae07",
   "metadata": {},
   "outputs": [],
   "source": [
    "startyear = 2019\n",
    "startmonth = 1\n",
    "startday = 1\n",
    "\n",
    "# create a datetime object\n",
    "start = dt.datetime(startyear, startmonth, startday)\n",
    "# two date time objects, the start and the now\n",
    "now = dt.datetime.now()"
   ]
  },
  {
   "cell_type": "markdown",
   "id": "78281c26",
   "metadata": {},
   "source": [
    "data frame"
   ]
  },
  {
   "cell_type": "code",
   "execution_count": null,
   "id": "7c3aa4ed",
   "metadata": {},
   "outputs": [],
   "source": [
    "df = pdr.get_data_yahoo(stock, start, now)\n",
    "print(df)"
   ]
  },
  {
   "cell_type": "code",
   "execution_count": null,
   "id": "5e2768f8",
   "metadata": {},
   "outputs": [],
   "source": [
    "ma = 50\n",
    "# str converts the ma which is an integer into a str and concatenates with the string \"Sma_\"\n",
    "smaString = \"Sma_\"+str(ma)\n",
    "\n",
    "# creates a new column to our data frame, but when cut out the first 4 rows\n",
    "df[smaString] = df.iloc[:,4].rolling(window=ma).mean()\n",
    "print(df)"
   ]
  },
  {
   "cell_type": "code",
   "execution_count": null,
   "id": "36074a8a",
   "metadata": {},
   "outputs": [],
   "source": [
    "df = df.iloc[ma:]\n",
    "print(df)"
   ]
  },
  {
   "cell_type": "markdown",
   "id": "ef8c4582",
   "metadata": {},
   "source": [
    "iterate each day to check if each row is above or below each moving average"
   ]
  },
  {
   "cell_type": "code",
   "execution_count": null,
   "id": "bf8c5429",
   "metadata": {},
   "outputs": [],
   "source": [
    "# each date is the index row of the date, use i to determine which values we are talking about.\n",
    "for i in df.index:\n",
    "    print(i)"
   ]
  },
  {
   "cell_type": "code",
   "execution_count": null,
   "id": "99bf93c0",
   "metadata": {},
   "outputs": [],
   "source": [
    "# prints the adjust float for each data set\n",
    "for i in df.index:\n",
    "    print(df.iloc[:,4][i])"
   ]
  },
  {
   "cell_type": "code",
   "execution_count": null,
   "id": "aed52463",
   "metadata": {},
   "outputs": [],
   "source": [
    "# OR\n",
    "\n",
    "for i in df.index:\n",
    "    print(df[\"Adj Close\"][i])"
   ]
  },
  {
   "cell_type": "code",
   "execution_count": null,
   "id": "ebc19335",
   "metadata": {},
   "outputs": [],
   "source": [
    "# Get the moving average\n",
    "\n",
    "for i in df.index:\n",
    "    print(df[smaString][i])"
   ]
  },
  {
   "cell_type": "markdown",
   "id": "aac1fa95",
   "metadata": {},
   "source": [
    "Write an IF statement to compare the two values"
   ]
  },
  {
   "cell_type": "code",
   "execution_count": null,
   "id": "02d5894d",
   "metadata": {},
   "outputs": [],
   "source": [
    "# define the variable\n",
    "numH = 0\n",
    "numC = 0\n",
    "\n",
    "for i in df.index:\n",
    "    if(df[\"Adj Close\"][i]>df[smaString][i]):\n",
    "        print(\"The Close is higher\")\n",
    "        numH+=1\n",
    "    else:\n",
    "        print(\"The Close is lower\")\n",
    "        numC+=1\n",
    "\n",
    "print(str(numH))\n",
    "print(str(numC))"
   ]
  },
  {
   "cell_type": "code",
   "execution_count": null,
   "id": "88e7d5da",
   "metadata": {},
   "outputs": [],
   "source": []
  },
  {
   "cell_type": "code",
   "execution_count": null,
   "id": "a6dedf9a",
   "metadata": {},
   "outputs": [],
   "source": []
  }
 ],
 "metadata": {
  "kernelspec": {
   "display_name": "Python 3 (ipykernel)",
   "language": "python",
   "name": "python3"
  },
  "language_info": {
   "codemirror_mode": {
    "name": "ipython",
    "version": 3
   },
   "file_extension": ".py",
   "mimetype": "text/x-python",
   "name": "python",
   "nbconvert_exporter": "python",
   "pygments_lexer": "ipython3",
   "version": "3.9.12"
  }
 },
 "nbformat": 4,
 "nbformat_minor": 5
}
